{
 "cells": [
  {
   "cell_type": "markdown",
   "id": "372c3888",
   "metadata": {},
   "source": [
    "## Registration processing university\n"
   ]
  },
  {
   "cell_type": "markdown",
   "id": "ef5d7dd5",
   "metadata": {},
   "source": [
    "In the following code snippet we define a class called Course, which represents a course in an university.\n",
    "Inside this class we define various methods with different goals:\n",
    "- Constructor Method: It initializes the instance variables of the class and also two additional attributes.\n",
    "- register_student: This method allows a student to register for the course. \n",
    "- check_availability: It provides information about the availability of seats in the course."
   ]
  },
  {
   "cell_type": "code",
   "execution_count": 10,
   "id": "b33379f7",
   "metadata": {},
   "outputs": [],
   "source": [
    "class Course:\n",
    "    def __init__(self, course_id, name, instructor, schedule, max_capacity):\n",
    "        self.course_id = course_id\n",
    "        self.name = name\n",
    "        self.instructor = instructor\n",
    "        self.schedule = schedule\n",
    "        self.max_capacity = max_capacity\n",
    "        self.current_enrollment = 0\n",
    "        self.enrolled_students = []  # Initialized as an empty list\n",
    "\n",
    "    def register_student(self, student):\n",
    "        if self.current_enrollment < self.max_capacity:\n",
    "            self.enrolled_students.append(student)\n",
    "            self.current_enrollment += 1\n",
    "            print(\"Student\", student.student_id, \"registered for\", self.name)\n",
    "        else:\n",
    "            print(\"Course\", self.name, \"is full. Cannot register more students.\")\n",
    "            \n",
    "    \n",
    "    def check_availability(self):\n",
    "        available_seats = self.max_capacity - self.current_enrollment\n",
    "        return \"There are \" + str(available_seats) + \" seats available in \" + self.name + \".\"\n",
    "            \n",
    "    \n"
   ]
  },
  {
   "cell_type": "markdown",
   "id": "79a4d381",
   "metadata": {},
   "source": [
    "In the following code snippet we define a class called Student, which represents a student of an university. Inside this class we define various methods with different goals:\n",
    "- Constructor Method: It initializes the instance variables of the class, setting up the basic attributes of a student.\n",
    "- enroll_in_course: This method allows a student to enroll in a course."
   ]
  },
  {
   "cell_type": "code",
   "execution_count": 11,
   "id": "9279cac8",
   "metadata": {},
   "outputs": [],
   "source": [
    "class Student:\n",
    "    def __init__(self, student_id, first_name, last_name, major):\n",
    "        self.student_id = student_id\n",
    "        self.first_name = first_name\n",
    "        self.last_name = last_name\n",
    "        self.major = major\n",
    "        self.enrolled_courses = []\n",
    "\n",
    "        \n",
    "    def enroll_in_course(self, course):\n",
    "        if course not in self.enrolled_courses:\n",
    "            if course.current_enrollment < course.max_capacity:\n",
    "                self.enrolled_courses.append(course)\n",
    "                course.register_student(self)  # Update the course enrollment\n",
    "                print(\"Enrolled in course:\", course.name)\n",
    "            else:\n",
    "                print(\"Course\", course.name, \"is full. Cannot enroll.\")\n",
    "        else:\n",
    "            print(\"Already enrolled in course:\", course.name)\n",
    "   \n",
    "    \n"
   ]
  },
  {
   "cell_type": "markdown",
   "id": "3a289d2f",
   "metadata": {},
   "source": [
    "The following code creates three different courses with the specific details:"
   ]
  },
  {
   "cell_type": "code",
   "execution_count": 12,
   "id": "7373fd5c",
   "metadata": {},
   "outputs": [],
   "source": [
    "math_course = Course(course_id = 1, name = \"Mathematics\", instructor = \"Prof. Smith\", schedule = \"Monday 10:00 AM\", \n",
    "                     max_capacity = 1)  #We set max_capacity = 1\n",
    "\n",
    "physics_course = Course(course_id = 2, name = \"Physics\", instructor = \"Prof. Johnson\", schedule = \"Tuesday 2:00 PM\", \n",
    "                        max_capacity = 10)\n",
    "\n",
    "chemistry_course = Course(course_id = 3, name = \"Chemistry\", instructor = \"Prof. Davos\", schedule = \"Friday 3:00 PM\", \n",
    "                        max_capacity = 5)"
   ]
  },
  {
   "cell_type": "markdown",
   "id": "1ccf2564",
   "metadata": {},
   "source": [
    "The following code creates three different students with the specific details:"
   ]
  },
  {
   "cell_type": "code",
   "execution_count": 13,
   "id": "49a3d76e",
   "metadata": {},
   "outputs": [],
   "source": [
    "student1 = Student(student_id = 101, first_name = \"John\", last_name = \"Doe\", major = \"Computer Science\")\n",
    "\n",
    "student2 = Student(student_id = 102, first_name = \"Jane\", last_name = \"Smith\", major = \"Physics\")\n",
    "\n",
    "student3 = Student(student_id = 103, first_name = \"Anna\", last_name = \"Morris\", major = \"Chemistry\")"
   ]
  },
  {
   "cell_type": "markdown",
   "id": "930fca58",
   "metadata": {},
   "source": [
    "The following code snippet defines a function, called \"input_register_student_to_course\", which has the goal to register a student for a course by taking user input for the student ID and the desired course ID:"
   ]
  },
  {
   "cell_type": "code",
   "execution_count": 14,
   "id": "bc64d82f",
   "metadata": {},
   "outputs": [],
   "source": [
    "def input_register_student_to_course(courses, students):\n",
    "    student_id = int(input(\"Enter Student ID: \"))\n",
    "\n",
    "    selected_student = None\n",
    "    for student in students:\n",
    "        if student.student_id == student_id:\n",
    "            selected_student = student\n",
    "            break\n",
    "\n",
    "    if selected_student is not None:\n",
    "        first_name = selected_student.first_name\n",
    "        last_name = selected_student.last_name\n",
    "        major = selected_student.major\n",
    "\n",
    "        student = Student(student_id, first_name, last_name, major)\n",
    "\n",
    "        print(\"Available Courses:\")\n",
    "        for i in range(len(courses)):\n",
    "            course = courses[i]\n",
    "            print(str(i + 1) + \". \" + course.name + \" (ID: \" + str(course.course_id) + \")\")\n",
    "\n",
    "        course_id = int(input(\"Enter the ID of the course to register for: \"))\n",
    "\n",
    "        \n",
    "        selected_course = None\n",
    "        for course in courses:\n",
    "            if course.course_id == course_id:\n",
    "                selected_course = course\n",
    "                break\n",
    "\n",
    "        if selected_course is not None:\n",
    "            selected_student.enroll_in_course(selected_course)\n",
    "        else:\n",
    "            print(\"Invalid course ID. Registration failed.\")\n",
    "    else:\n",
    "        print(\"Invalid student ID. Registration failed.\")\n",
    "\n"
   ]
  },
  {
   "cell_type": "markdown",
   "id": "dca8cc42",
   "metadata": {},
   "source": [
    "The following code chunck defines a function, called \"input_check_course_availability\", which is designed to check the availability of a course by taking user input for the course ID: "
   ]
  },
  {
   "cell_type": "code",
   "execution_count": 15,
   "id": "428cb8c8",
   "metadata": {},
   "outputs": [],
   "source": [
    "def input_check_course_availability(courses):\n",
    "    print(\"Available Courses:\")\n",
    "    for course in courses:\n",
    "        print(\"Course ID: \" + str(course.course_id) + \" - \" + course.name)\n",
    "\n",
    "    course_id = int(input(\"Enter Course ID to check availability: \"))\n",
    "\n",
    "    selected_course = None\n",
    "    for course in courses:\n",
    "        if course.course_id == course_id:\n",
    "            selected_course = course\n",
    "            break\n",
    "\n",
    "    if selected_course is not None:\n",
    "        feedback = selected_course.check_availability()\n",
    "        print(feedback)\n",
    "    else:\n",
    "        print(\"Invalid course ID. Could not check availability.\")"
   ]
  },
  {
   "cell_type": "markdown",
   "id": "00668829",
   "metadata": {},
   "source": [
    "The following code defines two lists:\n",
    "- courses,\n",
    "- students\n",
    "\n",
    "each containing instances of the Course and Student classes"
   ]
  },
  {
   "cell_type": "code",
   "execution_count": 16,
   "id": "388397ae",
   "metadata": {},
   "outputs": [],
   "source": [
    "courses = [math_course, physics_course, chemistry_course]\n",
    "students = [student1, student2, student3]"
   ]
  },
  {
   "cell_type": "markdown",
   "id": "a3070730",
   "metadata": {},
   "source": [
    "The following code checks the availability of a course based on user input:"
   ]
  },
  {
   "cell_type": "code",
   "execution_count": 17,
   "id": "67279be9",
   "metadata": {},
   "outputs": [
    {
     "name": "stdout",
     "output_type": "stream",
     "text": [
      "Available Courses:\n",
      "Course ID: 1 - Mathematics\n",
      "Course ID: 2 - Physics\n",
      "Course ID: 3 - Chemistry\n",
      "Enter Course ID to check availability: 1\n",
      "There are 1 seats available in Mathematics.\n"
     ]
    }
   ],
   "source": [
    "input_check_course_availability(courses)"
   ]
  },
  {
   "cell_type": "markdown",
   "id": "57c628e0",
   "metadata": {},
   "source": [
    " The following code snippet is designed to register a student for a course by providing both student and course IDs:"
   ]
  },
  {
   "cell_type": "code",
   "execution_count": 20,
   "id": "3cb3342f",
   "metadata": {},
   "outputs": [
    {
     "name": "stdout",
     "output_type": "stream",
     "text": [
      "Enter Student ID: 102\n",
      "Available Courses:\n",
      "1. Mathematics (ID: 1)\n",
      "2. Physics (ID: 2)\n",
      "3. Chemistry (ID: 3)\n",
      "Enter the ID of the course to register for: 1\n",
      "Course Mathematics is full. Cannot enroll.\n"
     ]
    }
   ],
   "source": [
    "input_register_student_to_course(courses, students)"
   ]
  },
  {
   "cell_type": "markdown",
   "id": "42f214e4",
   "metadata": {},
   "source": [
    "The following code checks the availability of a course based on user input:"
   ]
  },
  {
   "cell_type": "code",
   "execution_count": 11,
   "id": "6536cbaf",
   "metadata": {},
   "outputs": [
    {
     "name": "stdout",
     "output_type": "stream",
     "text": [
      "Available Courses:\n",
      "Course ID: 1 - Mathematics\n",
      "Course ID: 2 - Physics\n",
      "Course ID: 3 - Chemistry\n",
      "Enter Course ID to check availability: 1\n",
      "There are 0 seats available in Mathematics.\n"
     ]
    }
   ],
   "source": [
    "input_check_course_availability(courses)"
   ]
  }
 ],
 "metadata": {
  "kernelspec": {
   "display_name": "Python 3 (ipykernel)",
   "language": "python",
   "name": "python3"
  },
  "language_info": {
   "codemirror_mode": {
    "name": "ipython",
    "version": 3
   },
   "file_extension": ".py",
   "mimetype": "text/x-python",
   "name": "python",
   "nbconvert_exporter": "python",
   "pygments_lexer": "ipython3",
   "version": "3.11.5"
  }
 },
 "nbformat": 4,
 "nbformat_minor": 5
}
